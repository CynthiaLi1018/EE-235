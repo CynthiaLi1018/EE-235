{
 "cells": [
  {
   "cell_type": "code",
   "execution_count": 7,
   "metadata": {},
   "outputs": [],
   "source": [
    "import numpy as np\n",
    "import matplotlib\n",
    "import matplotlib.pyplot as plt\n",
    "import simpleaudio as sa\n",
    "import scipy.io\n",
    "from scipy.io import wavfile as wav\n"
   ]
  },
  {
   "cell_type": "markdown",
   "metadata": {},
   "source": [
    "# Lab 1 Report\n",
    "\n",
    "Oleh Kondratyuk, Cynthia Li and Marco Mak\n"
   ]
  },
  {
   "cell_type": "markdown",
   "metadata": {},
   "source": [
    "## Summary\n",
    "\n",
    "This lab aims to familarize with array operation, basic sound file operations, and signal plotting using python."
   ]
  },
  {
   "cell_type": "markdown",
   "metadata": {},
   "source": [
    "## Assignment 1 -- Creating and Manipulating Arrays"
   ]
  },
  {
   "cell_type": "code",
   "execution_count": 8,
   "metadata": {},
   "outputs": [
    {
     "name": "stdout",
     "output_type": "stream",
     "text": [
      "ca =  6 \n",
      "cb =  [6 2] \n",
      "d =  3\n",
      "x1 =  [2. 2. 2. 2. 2.] \n",
      "x2 =  [-2 -1  0  1  2]\n",
      "arrp =  [0. 1. 2. 3. 4.] \n",
      "arrc =  [ 2.  2.  2.  2.  2. -2. -1.  0.  1.  2.]\n"
     ]
    }
   ],
   "source": [
    "# Assignment 1 - Creating and Manipulating Arrays\n",
    "\n",
    "# Part A\n",
    "y1 = np.array([4,6,2])\n",
    "\n",
    "# Part B\n",
    "ca = y1[1]\n",
    "cb = y1[len(y1)-2: len(y1)]\n",
    "d = len(y1)\n",
    "print(\"ca = \", ca, \"\\ncb = \", cb, \"\\nd = \", d )\n",
    "\n",
    "# Part C\n",
    "x1 = 2*np.ones(5)\n",
    "x2 = np.arange(-2,3)\n",
    "print(\"x1 = \", x1, \"\\nx2 = \", x2)\n",
    "\n",
    "# Part D\n",
    "arrp = x1 + x2\n",
    "arrc = np.concatenate([x1, x2])\n",
    "print(\"arrp = \", arrp, \"\\narrc = \", arrc)"
   ]
  },
  {
   "cell_type": "markdown",
   "metadata": {},
   "source": [
    "###  Discussion\n",
    "**Comment on the difference between concatenation and addition of two vectors. What are the constraints in terms of when these functions can be applied?**\n",
    "\n",
    "When adding two vectors, the values at the same indecies are summed arithmatically resulting in a vector of the same magnitude but altered value. Whereas when concatenating two vectors, the added vector is joined to the end of the first vector, resulting in a single larger vector without altering original values of elements. \n",
    "\n",
    "Addition is only possible when the vectors are the exact same length. Wheras when concatenating, the vectors can be of any length in same dimension.\n",
    "\n",
    "\n"
   ]
  },
  {
   "cell_type": "markdown",
   "metadata": {},
   "source": [
    "## Assignment 2 -- Amplitude Operations on Signals"
   ]
  },
  {
   "cell_type": "code",
   "execution_count": 11,
   "metadata": {},
   "outputs": [
    {
     "name": "stdout",
     "output_type": "stream",
     "text": [
      "t =  [0.  0.5 1.  1.5 2.  2.5 3. ]\n",
      "x =  [0.   0.25 0.5  0.75 1.   1.25 1.5 ] \n",
      "y =  [0.   0.25 1.   2.25 4.   6.25 9.  ]\n",
      "z =  [  0.    -0.25  -1.5   -3.75  -7.   -11.25 -16.5 ]\n",
      "w1 =  -7.0\n",
      "w2 =  [ 0.   -0.25 -1.5  -3.75]\n"
     ]
    }
   ],
   "source": [
    "# Assignment 2 - Title of Assignment 2\n",
    "\n",
    "# Part A\n",
    "fs = 2\n",
    "Ts = 1/fs\n",
    "t = np.arange(0,3 +Ts,Ts)\n",
    "print(\"t = \",t)\n",
    "x = 0.5*t\n",
    "y = t**2\n",
    "print(\"x = \", x, \"\\ny = \", y)\n",
    "\n",
    "# Part B\n",
    "z = x - 2*y\n",
    "print(\"z = \", z)\n",
    "\n",
    "# Part C\n",
    "w1 = z[4]\n",
    "print(\"w1 = \",w1)\n",
    "\n",
    "# Part D\n",
    "w2 = z[:4]\n",
    "print(\"w2 = \", w2)"
   ]
  },
  {
   "cell_type": "markdown",
   "metadata": {},
   "source": [
    "### Discussion\n",
    "**Discuss how the results of this problem would change if you used fs=1 instead of fs=2.**\n",
    "\n",
    "By reducing the sampling frequency, we would've taken half as many samples (per second and in total). This would in effect lower the resolution of our continuous signal but would also reduce the size of the memory that the digitized signal occupies on our computer (e.g. if the original file was 2 kb, the halved fs would be of size 1 kb)."
   ]
  },
  {
   "cell_type": "markdown",
   "metadata": {},
   "source": [
    "## Assignment 3 -- Working with Sound Files"
   ]
  },
  {
   "cell_type": "code",
   "execution_count": 12,
   "metadata": {
    "scrolled": false
   },
   "outputs": [
    {
     "name": "stdout",
     "output_type": "stream",
     "text": [
      "Train file has  1  channel  \n",
      "and Tuba file has  2  channels\n",
      "Playing both original files:\n",
      "Now with their sampling frequencies reversed: \n",
      "Train file length:  50313\n",
      "Tuba file length:  109708\n",
      "Combining the train singal and an equal-length segment of the tuba signal:\n",
      "Both signals with a four second pause between them (Sounds absolutly horrible for some reason)\n",
      "I sounds as it should when I play the file that is written ('Part3d.wav'),\n",
      " but the code itself creates a horrible sound\n"
     ]
    }
   ],
   "source": [
    "# Assignment 3\n",
    "\n",
    "# Part A\n",
    "train_obj = sa.WaveObject.from_wave_file('train32.wav')\n",
    "tuba_obj = sa.WaveObject.from_wave_file('tuba11.wav')\n",
    "\n",
    "fs1, y1 = wav.read('train32.wav')\n",
    "fs2, y2 = wav.read('tuba11.wav')\n",
    "\n",
    "print(\"Train file has \", train_obj.num_channels, \" channel \", \n",
    "      \"\\nand Tuba file has \", tuba_obj.num_channels, \" channels\")\n",
    "\n",
    "# Part B\n",
    "print(\"Playing both original files:\")\n",
    "train_obj.play().wait_done()\n",
    "tuba_obj.play().wait_done()\n",
    "\n",
    "print(\"Now with their sampling frequencies reversed: \")\n",
    "sa.play_buffer(y1, train_obj.num_channels,\n",
    "              train_obj.bytes_per_sample, fs2).wait_done()\n",
    "sa.play_buffer(y2, tuba_obj.num_channels,\n",
    "              tuba_obj.bytes_per_sample, fs1).wait_done()\n",
    "\n",
    "\n",
    "# Part C\n",
    "print(\"Train file length: \",len(y1))\n",
    "print(\"Tuba file length: \", len(y2[:,1]))\n",
    "\n",
    "tuba0 = y2[:,0]    # Tuba Channel 1\n",
    "tuba1 = y2[:,1]    # Tuba Channel 2\n",
    "\n",
    "\n",
    "y3 = tuba0[0:len(y1)]\n",
    "y4 = np.concatenate([y1, y3])\n",
    "print(\"Combining the train singal and an equal-length segment of the tuba signal:\")\n",
    "sa.play_buffer(y4, 1, train_obj.bytes_per_sample, fs1).wait_done()\n",
    "outfile = 'Part3c.wav'\n",
    "wav.write(outfile,fs1,y4.astype('int16'))\n",
    "\n",
    "# Part D\n",
    "pause = np.zeros(int(4*fs1)) # create a 4-sec pause\n",
    "\n",
    "y5 = np.concatenate([y1, pause, tuba0])\n",
    "print(\"Both signals with a four second pause between them (Sounds absolutly horrible for some reason)\")\n",
    "print(\"I sounds as it should when I play the file that is written ('Part3d.wav'),\\nbut the code itself creates a horrible sound\")\n",
    "sa.play_buffer(y5, 1, 2, fs1).wait_done()\n",
    "outfile = 'Part3d.wav'\n",
    "wav.write(outfile,fs1,y5.astype('int16'))\n"
   ]
  },
  {
   "cell_type": "markdown",
   "metadata": {},
   "source": [
    "### Discussion\n",
    "**Comment on how the audio changes when the incorrect sampling frequency is used. You should notice two ways in which the sound changes. The train sound is mono, and the tuba sound is stereo. How did that impact your solution to parts C and D?**\n",
    "\n",
    "When the incorrect sampling frequencies were used, there was a change in pitch (if the sampling frequency was faster, then the pitch raised, if to slow, then the pitch fell). The length of the sound signal (in seconds) was also affected, if the sampling frequency was increased by a factor of α, the length of the singal will decrease by a factor of α, and vice versa.\n",
    "\n",
    "Because the tuba file is stereo, the data was stored in two channels instead of one like the train file.Thus, in order to concatenate the data for the train and tuba files in parts c and d, we first had to extract the tuba's file data from one of the two channels prior to concatenation."
   ]
  },
  {
   "cell_type": "markdown",
   "metadata": {},
   "source": [
    "## Assignment 4 -- Plotting Comparisons"
   ]
  },
  {
   "cell_type": "code",
   "execution_count": 5,
   "metadata": {},
   "outputs": [
    {
     "data": {
      "image/png": "[encoded data removed]",
      "text/plain": [
       "<Figure size 432x288 with 1 Axes>"
      ]
     },
     "metadata": {
      "needs_background": "light"
     },
     "output_type": "display_data"
    }
   ],
   "source": [
    "# Assignment 4\n",
    "\n",
    "# Part A\n",
    "fs = 5\n",
    "Ts = 1/fs\n",
    "t = np.arange(-2,4+Ts, Ts)\n",
    "w_t = np.abs(t)\n",
    "x_t = 2 - t\n",
    "y_t = -0.5*(t**2)\n",
    "\n",
    "# Part B\n",
    "fig1 = plt.figure(1)\n",
    "plt.plot(t, w_t, label = 'w_t')\n",
    "plt.plot(t, x_t, label = 'x_t')\n",
    "plt.plot(t, y_t, label = 'y_t')\n",
    "plt.xlabel('time (s)')\n",
    "plt.title('3 signals')\n",
    "plt.grid()\n",
    "plt.legend()\n",
    "plt.show()\n"
   ]
  },
  {
   "cell_type": "markdown",
   "metadata": {},
   "source": [
    "### Discussion\n",
    "**Read the plot documentation and explain how you would change the command to distinguish the signals using different line styles (solid, dashed, dotted) to make the figure easier to read for someone who is color blind.**\n",
    "\n",
    "According to the matplotlib.pyplot.plot documentation, line style can be specified as an optional argument in the plot() function. Solid corresponds to '-', dashed = '--' and dotted = ':' in order to facilitate color blind viewers. \n",
    "Source: https://matplotlib.org/3.3.2/api/_as_gen/matplotlib.pyplot.plot.html\n",
    "\n",
    "Note: Colors can also be specified in the same manner, for example a red dotted line would be 'r:'."
   ]
  },
  {
   "cell_type": "markdown",
   "metadata": {},
   "source": [
    "## Assignment 5 -- Plotting Sound Files using Subplots\n"
   ]
  },
  {
   "cell_type": "code",
   "execution_count": 6,
   "metadata": {},
   "outputs": [
    {
     "data": {
      "image/png": "[encoded data removed]",
      "text/plain": [
       "<Figure size 432x288 with 2 Axes>"
      ]
     },
     "metadata": {
      "needs_background": "light"
     },
     "output_type": "display_data"
    }
   ],
   "source": [
    "# Assignment 5 -- Plotting Sound Files using Subplots\n",
    "\n",
    "# Part A\n",
    "Ts1 = 1/fs1\n",
    "Ts2 = 1/fs2\n",
    "\n",
    "t1 = 1000*np.arange(0, len(y1)/fs1, Ts1)\n",
    "t2 = 1000*np.arange(0, len(y2)/fs2, Ts2)\n",
    "\n",
    "# Part B\n",
    "fig2 = plt.figure(2)\n",
    "fig2.subplots_adjust(hspace = 0.8, wspace = 0.5)\n",
    "\n",
    "plt.subplot(2,1,1)\n",
    "plt.plot(t1, y1, 'r-')\n",
    "plt.title('Train Wave')\n",
    "plt.xlabel('milliseconds (ms)')\n",
    "plt.ylim(-35_000, 35_000)\n",
    "plt.xlim(0, 11_000)\n",
    "\n",
    "plt.subplot(2,1,2)\n",
    "plt.plot(t2, y2, 'b-')\n",
    "plt.title('Tuba Wave')\n",
    "plt.xlabel('milliseconds (ms)')\n",
    "plt.ylim(-35_000, 35_000)\n",
    "plt.xlim(0, 11_000)\n",
    "\n",
    "plt.show()"
   ]
  },
  {
   "cell_type": "markdown",
   "metadata": {},
   "source": [
    "### Discussion\n",
    "**Comment on the differences between the plots of the signals. Can you see the difference in sampling rate in these plots?**\n",
    "\n",
    "There are several differences between the train and tuba signals that the above plots make visible. One is the length, with the tuba signal has longer duration than the train signal. The other is volume/amplitude, with the train signal being significantly louder than the tuba signal. \n",
    "\n",
    "The sampling rate is something that we cannot discern from the above graphs. It would require us to zoom in significantly for us to see or to calculate the time between the discrete points."
   ]
  },
  {
   "cell_type": "code",
   "execution_count": null,
   "metadata": {},
   "outputs": [],
   "source": []
  }
 ],
 "metadata": {
  "kernelspec": {
   "display_name": "Python 3",
   "language": "python",
   "name": "python3"
  },
  "language_info": {
   "codemirror_mode": {
    "name": "ipython",
    "version": 3
   },
   "file_extension": ".py",
   "mimetype": "text/x-python",
   "name": "python",
   "nbconvert_exporter": "python",
   "pygments_lexer": "ipython3",
   "version": "3.8.3"
  }
 },
 "nbformat": 4,
 "nbformat_minor": 4
}
